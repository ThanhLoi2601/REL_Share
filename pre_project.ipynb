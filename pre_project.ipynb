{
 "cells": [
  {
   "cell_type": "markdown",
   "metadata": {},
   "source": [
    "### Import thư viện"
   ]
  },
  {
   "cell_type": "code",
   "execution_count": 1,
   "metadata": {},
   "outputs": [],
   "source": [
    "import sys  \n",
    "import pandas as pd\n",
    "import numpy as np\n",
    "import time\n",
    "from gym_trading_env.environments import TradingEnv\n",
    "import gymnasium as gym\n",
    "import matplotlib.pyplot as plt\n",
    "import matplotlib.dates as mdates\n",
    "import pandas as pd\n",
    "import numpy as np"
   ]
  },
  {
   "cell_type": "markdown",
   "metadata": {},
   "source": [
    "### Load dataset"
   ]
  },
  {
   "cell_type": "code",
   "execution_count": 2,
   "metadata": {},
   "outputs": [
    {
     "data": {
      "text/html": [
       "<div>\n",
       "<style scoped>\n",
       "    .dataframe tbody tr th:only-of-type {\n",
       "        vertical-align: middle;\n",
       "    }\n",
       "\n",
       "    .dataframe tbody tr th {\n",
       "        vertical-align: top;\n",
       "    }\n",
       "\n",
       "    .dataframe thead th {\n",
       "        text-align: right;\n",
       "    }\n",
       "</style>\n",
       "<table border=\"1\" class=\"dataframe\">\n",
       "  <thead>\n",
       "    <tr style=\"text-align: right;\">\n",
       "      <th></th>\n",
       "      <th>open</th>\n",
       "      <th>high</th>\n",
       "      <th>low</th>\n",
       "      <th>close</th>\n",
       "      <th>volume</th>\n",
       "    </tr>\n",
       "    <tr>\n",
       "      <th>date</th>\n",
       "      <th></th>\n",
       "      <th></th>\n",
       "      <th></th>\n",
       "      <th></th>\n",
       "      <th></th>\n",
       "    </tr>\n",
       "  </thead>\n",
       "  <tbody>\n",
       "    <tr>\n",
       "      <th>2022-12-31 18:00:00</th>\n",
       "      <td>1200.92</td>\n",
       "      <td>1201.10</td>\n",
       "      <td>1199.35</td>\n",
       "      <td>1199.78</td>\n",
       "      <td>326.15632</td>\n",
       "    </tr>\n",
       "    <tr>\n",
       "      <th>2022-12-31 19:00:00</th>\n",
       "      <td>1199.78</td>\n",
       "      <td>1205.70</td>\n",
       "      <td>1199.42</td>\n",
       "      <td>1202.76</td>\n",
       "      <td>887.63063</td>\n",
       "    </tr>\n",
       "    <tr>\n",
       "      <th>2022-12-31 20:00:00</th>\n",
       "      <td>1202.76</td>\n",
       "      <td>1203.86</td>\n",
       "      <td>1202.24</td>\n",
       "      <td>1202.44</td>\n",
       "      <td>513.74465</td>\n",
       "    </tr>\n",
       "    <tr>\n",
       "      <th>2022-12-31 21:00:00</th>\n",
       "      <td>1202.44</td>\n",
       "      <td>1203.19</td>\n",
       "      <td>1199.85</td>\n",
       "      <td>1200.24</td>\n",
       "      <td>649.63971</td>\n",
       "    </tr>\n",
       "    <tr>\n",
       "      <th>2022-12-31 22:00:00</th>\n",
       "      <td>1200.24</td>\n",
       "      <td>1201.34</td>\n",
       "      <td>1193.08</td>\n",
       "      <td>1196.32</td>\n",
       "      <td>1587.73093</td>\n",
       "    </tr>\n",
       "  </tbody>\n",
       "</table>\n",
       "</div>"
      ],
      "text/plain": [
       "                        open     high      low    close      volume\n",
       "date                                                               \n",
       "2022-12-31 18:00:00  1200.92  1201.10  1199.35  1199.78   326.15632\n",
       "2022-12-31 19:00:00  1199.78  1205.70  1199.42  1202.76   887.63063\n",
       "2022-12-31 20:00:00  1202.76  1203.86  1202.24  1202.44   513.74465\n",
       "2022-12-31 21:00:00  1202.44  1203.19  1199.85  1200.24   649.63971\n",
       "2022-12-31 22:00:00  1200.24  1201.34  1193.08  1196.32  1587.73093"
      ]
     },
     "execution_count": 2,
     "metadata": {},
     "output_type": "execute_result"
    }
   ],
   "source": [
    "# Import your dataset\n",
    "df = pd.read_pickle(\"data/bybit-ETHUSDT-1h.pkl\")\n",
    "df = df.rename_axis('date', axis='index').drop(['date_close'], axis=1)\n",
    "df.sort_index(inplace= True)\n",
    "df.dropna(inplace= True)\n",
    "df.drop_duplicates(inplace=True)\n",
    "df.head()"
   ]
  },
  {
   "cell_type": "markdown",
   "metadata": {},
   "source": [
    "### Static Feature Initialization"
   ]
  },
  {
   "cell_type": "code",
   "execution_count": 3,
   "metadata": {},
   "outputs": [],
   "source": [
    "# Generating features\n",
    "# WARNING : the column names need to contain keyword 'feature' !\n",
    "df[\"feature_close\"] = df[\"close\"].pct_change()\n",
    "df[\"feature_open\"] = df[\"open\"]/df[\"close\"] - 1\n",
    "df[\"feature_high\"] = df[\"high\"]/df[\"close\"] - 1\n",
    "df[\"feature_low\"] = df[\"low\"]/df[\"close\"] - 1\n",
    "df[\"feature_volume\"] = df['volume'] / df['volume'].rolling(7*24).max()\n",
    "df.dropna(inplace= True)"
   ]
  },
  {
   "cell_type": "code",
   "execution_count": 4,
   "metadata": {},
   "outputs": [
    {
     "data": {
      "text/html": [
       "<div>\n",
       "<style scoped>\n",
       "    .dataframe tbody tr th:only-of-type {\n",
       "        vertical-align: middle;\n",
       "    }\n",
       "\n",
       "    .dataframe tbody tr th {\n",
       "        vertical-align: top;\n",
       "    }\n",
       "\n",
       "    .dataframe thead th {\n",
       "        text-align: right;\n",
       "    }\n",
       "</style>\n",
       "<table border=\"1\" class=\"dataframe\">\n",
       "  <thead>\n",
       "    <tr style=\"text-align: right;\">\n",
       "      <th></th>\n",
       "      <th>open</th>\n",
       "      <th>high</th>\n",
       "      <th>low</th>\n",
       "      <th>close</th>\n",
       "      <th>volume</th>\n",
       "      <th>feature_close</th>\n",
       "      <th>feature_open</th>\n",
       "      <th>feature_high</th>\n",
       "      <th>feature_low</th>\n",
       "      <th>feature_volume</th>\n",
       "    </tr>\n",
       "    <tr>\n",
       "      <th>date</th>\n",
       "      <th></th>\n",
       "      <th></th>\n",
       "      <th></th>\n",
       "      <th></th>\n",
       "      <th></th>\n",
       "      <th></th>\n",
       "      <th></th>\n",
       "      <th></th>\n",
       "      <th></th>\n",
       "      <th></th>\n",
       "    </tr>\n",
       "  </thead>\n",
       "  <tbody>\n",
       "    <tr>\n",
       "      <th>2023-01-07 17:00:00</th>\n",
       "      <td>1262.48</td>\n",
       "      <td>1263.41</td>\n",
       "      <td>1262.04</td>\n",
       "      <td>1262.67</td>\n",
       "      <td>124.39588</td>\n",
       "      <td>0.000150</td>\n",
       "      <td>-0.000150</td>\n",
       "      <td>0.000586</td>\n",
       "      <td>-0.000499</td>\n",
       "      <td>0.011585</td>\n",
       "    </tr>\n",
       "    <tr>\n",
       "      <th>2023-01-07 18:00:00</th>\n",
       "      <td>1262.67</td>\n",
       "      <td>1264.31</td>\n",
       "      <td>1262.66</td>\n",
       "      <td>1263.95</td>\n",
       "      <td>121.37665</td>\n",
       "      <td>0.001014</td>\n",
       "      <td>-0.001013</td>\n",
       "      <td>0.000285</td>\n",
       "      <td>-0.001021</td>\n",
       "      <td>0.011304</td>\n",
       "    </tr>\n",
       "    <tr>\n",
       "      <th>2023-01-07 19:00:00</th>\n",
       "      <td>1263.95</td>\n",
       "      <td>1265.62</td>\n",
       "      <td>1263.95</td>\n",
       "      <td>1265.10</td>\n",
       "      <td>431.70447</td>\n",
       "      <td>0.000910</td>\n",
       "      <td>-0.000909</td>\n",
       "      <td>0.000411</td>\n",
       "      <td>-0.000909</td>\n",
       "      <td>0.040205</td>\n",
       "    </tr>\n",
       "    <tr>\n",
       "      <th>2023-01-07 20:00:00</th>\n",
       "      <td>1265.10</td>\n",
       "      <td>1265.42</td>\n",
       "      <td>1262.91</td>\n",
       "      <td>1263.91</td>\n",
       "      <td>228.01033</td>\n",
       "      <td>-0.000941</td>\n",
       "      <td>0.000942</td>\n",
       "      <td>0.001195</td>\n",
       "      <td>-0.000791</td>\n",
       "      <td>0.021235</td>\n",
       "    </tr>\n",
       "    <tr>\n",
       "      <th>2023-01-07 21:00:00</th>\n",
       "      <td>1263.91</td>\n",
       "      <td>1266.91</td>\n",
       "      <td>1262.63</td>\n",
       "      <td>1264.02</td>\n",
       "      <td>545.12295</td>\n",
       "      <td>0.000087</td>\n",
       "      <td>-0.000087</td>\n",
       "      <td>0.002286</td>\n",
       "      <td>-0.001100</td>\n",
       "      <td>0.050768</td>\n",
       "    </tr>\n",
       "  </tbody>\n",
       "</table>\n",
       "</div>"
      ],
      "text/plain": [
       "                        open     high      low    close     volume  \\\n",
       "date                                                                 \n",
       "2023-01-07 17:00:00  1262.48  1263.41  1262.04  1262.67  124.39588   \n",
       "2023-01-07 18:00:00  1262.67  1264.31  1262.66  1263.95  121.37665   \n",
       "2023-01-07 19:00:00  1263.95  1265.62  1263.95  1265.10  431.70447   \n",
       "2023-01-07 20:00:00  1265.10  1265.42  1262.91  1263.91  228.01033   \n",
       "2023-01-07 21:00:00  1263.91  1266.91  1262.63  1264.02  545.12295   \n",
       "\n",
       "                     feature_close  feature_open  feature_high  feature_low  \\\n",
       "date                                                                          \n",
       "2023-01-07 17:00:00       0.000150     -0.000150      0.000586    -0.000499   \n",
       "2023-01-07 18:00:00       0.001014     -0.001013      0.000285    -0.001021   \n",
       "2023-01-07 19:00:00       0.000910     -0.000909      0.000411    -0.000909   \n",
       "2023-01-07 20:00:00      -0.000941      0.000942      0.001195    -0.000791   \n",
       "2023-01-07 21:00:00       0.000087     -0.000087      0.002286    -0.001100   \n",
       "\n",
       "                     feature_volume  \n",
       "date                                 \n",
       "2023-01-07 17:00:00        0.011585  \n",
       "2023-01-07 18:00:00        0.011304  \n",
       "2023-01-07 19:00:00        0.040205  \n",
       "2023-01-07 20:00:00        0.021235  \n",
       "2023-01-07 21:00:00        0.050768  "
      ]
     },
     "execution_count": 4,
     "metadata": {},
     "output_type": "execute_result"
    }
   ],
   "source": [
    "df.head()"
   ]
  },
  {
   "cell_type": "markdown",
   "metadata": {},
   "source": [
    "### Reward function"
   ]
  },
  {
   "cell_type": "code",
   "execution_count": 5,
   "metadata": {},
   "outputs": [],
   "source": [
    "# Create reward function with the history object\n",
    "def reward_function(history):\n",
    "    return np.log(history[\"portfolio_valuation\", -1] / history[\"portfolio_valuation\", -2]) #log (p_t / p_t-1 )"
   ]
  },
  {
   "cell_type": "markdown",
   "metadata": {},
   "source": [
    "### Render each step"
   ]
  },
  {
   "cell_type": "code",
   "execution_count": 6,
   "metadata": {},
   "outputs": [],
   "source": [
    "def render_matplotlib(data_list):\n",
    "    # Tạo DataFrame từ dữ liệu\n",
    "    df = pd.DataFrame(data_list)\n",
    "\n",
    "    # Thêm cột Date_Num để matplotlib có thể xử lý thời gian\n",
    "    df['Date_Num'] = mdates.date2num(df['date'].astype('M8[s]').tolist())\n",
    "\n",
    "    # Tạo danh sách OHLC cho candlestick\n",
    "    ohlc = df[['Date_Num', 'data_open', 'data_high', 'data_low', 'data_close', 'data_volume']].values\n",
    "\n",
    "    # Vẽ biểu đồ\n",
    "    fig, ax = plt.subplots(figsize=(10, 6))\n",
    "\n",
    "    # Vẽ candlestick\n",
    "    for row in ohlc:\n",
    "        ax.plot([row[0], row[0]], [row[3], row[2]], color='black')  # Thanh high-low\n",
    "        ax.bar(row[0], row[4] - row[1], width=0.02, bottom=min(row[1], row[4]),\n",
    "            color='green' if row[4] > row[1] else 'red')\n",
    "\n",
    "    # Định dạng trục X để hiển thị thời gian\n",
    "    ax.xaxis_date()\n",
    "    ax.xaxis.set_major_formatter(mdates.DateFormatter('%Y-%m-%d %H:%M'))\n",
    "\n",
    "    # Thêm thông tin bổ sung lên biểu đồ\n",
    "    last_row = df.iloc[-1]\n",
    "    info_text = f\"Portfolio: {last_row['portfolio_valuation']:.2f}\\nReward: {df['reward'].sum():.5f}\\nPosition: {last_row['position']}\\nVolume: {last_row['data_volume']}\"\n",
    "\n",
    "    # Tạo khung cho văn bản\n",
    "    props = dict(boxstyle='round', facecolor='lightgrey', alpha=0.5)\n",
    "    ax.text(0.95, 0.95, info_text, fontsize=14, ha='right', va='top', transform=fig.transFigure, \n",
    "            bbox=props, color='blue')\n",
    "\n",
    "    # Thiết lập nhãn và lưới\n",
    "    ax.set_ylabel('Price')\n",
    "    ax.set_xlabel('Date')\n",
    "    ax.grid(True)\n",
    "\n",
    "    plt.title(\"Candlestick Chart - Gym Trading Environment\", fontsize=14)\n",
    "\n",
    "    # Xoay nhãn trục X để dễ đọc hơn\n",
    "    plt.xticks(rotation=45)\n",
    "\n",
    "    # Hiển thị biểu đồ\n",
    "    plt.tight_layout()\n",
    "    plt.show()\n"
   ]
  },
  {
   "cell_type": "markdown",
   "metadata": {},
   "source": [
    "### Environment Initialization"
   ]
  },
  {
   "cell_type": "code",
   "execution_count": 7,
   "metadata": {},
   "outputs": [],
   "source": [
    "env = gym.make(\n",
    "        \"TradingEnv\",\n",
    "        name= \"ETHUSDT\",\n",
    "        df = df,\n",
    "        windows= 3,\n",
    "        positions = [ -1, 0, 1], # From -1 (=SHORT), to +1 (=LONG)\n",
    "        initial_position = 0, #Initial position\n",
    "        trading_fees = 0.01/100, # 0.01% per stock buy / sell\n",
    "        borrow_interest_rate= 0.0003/100, #per timestep (= 1h here)\n",
    "        reward_function = reward_function,\n",
    "        portfolio_initial_value = 1000, # in FIAT (here, USD)\n",
    "        max_episode_duration = 500,\n",
    "    )"
   ]
  },
  {
   "cell_type": "code",
   "execution_count": 8,
   "metadata": {},
   "outputs": [],
   "source": [
    "env.get_wrapper_attr('add_metric')('Position Changes', lambda history : np.sum(np.diff(history['position']) != 0) )\n",
    "env.get_wrapper_attr('add_metric')('Episode Lenght', lambda history : len(history['position']) )"
   ]
  },
  {
   "cell_type": "code",
   "execution_count": 9,
   "metadata": {},
   "outputs": [],
   "source": [
    "done, truncated = False, False\n",
    "observation, info = env.reset()\n",
    "info_list = [info]"
   ]
  },
  {
   "cell_type": "code",
   "execution_count": 10,
   "metadata": {},
   "outputs": [
    {
     "data": {
      "text/plain": [
       "{'idx': 1072,\n",
       " 'step': 0,\n",
       " 'date': numpy.datetime64('2023-02-21T09:00:00.000000000'),\n",
       " 'position_index': 1,\n",
       " 'position': 0,\n",
       " 'real_position': 0,\n",
       " 'data_close': 1684.54,\n",
       " 'data_high': 1687.33,\n",
       " 'data_open': 1676.02,\n",
       " 'data_low': 1671.0,\n",
       " 'data_volume': 4911.5555,\n",
       " 'portfolio_valuation': 1000.0,\n",
       " 'portfolio_distribution_asset': 0,\n",
       " 'portfolio_distribution_fiat': 1000.0,\n",
       " 'portfolio_distribution_borrowed_asset': 0,\n",
       " 'portfolio_distribution_borrowed_fiat': 0,\n",
       " 'portfolio_distribution_interest_asset': 0,\n",
       " 'portfolio_distribution_interest_fiat': 0,\n",
       " 'reward': 0}"
      ]
     },
     "execution_count": 10,
     "metadata": {},
     "output_type": "execute_result"
    }
   ],
   "source": [
    "info"
   ]
  },
  {
   "cell_type": "code",
   "execution_count": 11,
   "metadata": {},
   "outputs": [
    {
     "data": {
      "text/plain": [
       "array([[-0.00217261,  0.00217735,  0.0022419 , -0.00204823,  0.0535113 ,\n",
       "         0.        ,  0.        ],\n",
       "       [-0.01636823,  0.01664061,  0.02325748, -0.00230904,  0.28061602,\n",
       "         0.        ,  0.        ],\n",
       "       [ 0.00508347, -0.00505776,  0.00165624, -0.0080378 ,  0.25020847,\n",
       "         0.        ,  0.        ]], dtype=float32)"
      ]
     },
     "execution_count": 11,
     "metadata": {},
     "output_type": "execute_result"
    }
   ],
   "source": [
    "observation"
   ]
  },
  {
   "cell_type": "markdown",
   "metadata": {},
   "source": [
    "### Running"
   ]
  },
  {
   "cell_type": "code",
   "execution_count": 12,
   "metadata": {},
   "outputs": [
    {
     "name": "stdout",
     "output_type": "stream",
     "text": [
      "Market Return : -0.57%   |   Portfolio Return : -0.18%   |   Position Changes : 336   |   Episode Lenght : 500   |   \n"
     ]
    }
   ],
   "source": [
    "while not done and not truncated:\n",
    "    action = env.action_space.sample()\n",
    "    observation, reward, done, truncated, info = env.step(action)\n",
    "    info_list.append(info)\n",
    "    #render_matplotlib(info_list)"
   ]
  },
  {
   "cell_type": "markdown",
   "metadata": {},
   "source": [
    "### Save render using web"
   ]
  },
  {
   "cell_type": "code",
   "execution_count": 13,
   "metadata": {},
   "outputs": [],
   "source": [
    "env.get_wrapper_attr('save_for_render')()"
   ]
  },
  {
   "cell_type": "markdown",
   "metadata": {},
   "source": [
    "### Running render web"
   ]
  },
  {
   "cell_type": "code",
   "execution_count": 14,
   "metadata": {},
   "outputs": [
    {
     "name": "stdout",
     "output_type": "stream",
     "text": [
      " * Serving Flask app 'gym_trading_env.renderer'\n",
      " * Debug mode: off\n"
     ]
    },
    {
     "name": "stderr",
     "output_type": "stream",
     "text": [
      "WARNING: This is a development server. Do not use it in a production deployment. Use a production WSGI server instead.\n",
      " * Running on http://127.0.0.1:5000\n",
      "Press CTRL+C to quit\n",
      "127.0.0.1 - - [14/Oct/2024 16:52:13] \"GET / HTTP/1.1\" 200 -\n",
      "127.0.0.1 - - [14/Oct/2024 16:52:13] \"GET /update_data/ETHUSDT_2024-10-14_16-52-05.pkl HTTP/1.1\" 200 -\n",
      "127.0.0.1 - - [14/Oct/2024 16:52:13] \"GET /metrics HTTP/1.1\" 200 -\n",
      "127.0.0.1 - - [14/Oct/2024 16:54:43] \"GET /update_data/BTCUSDT_2024-10-13_23-00-55.pkl HTTP/1.1\" 200 -\n",
      "127.0.0.1 - - [14/Oct/2024 16:54:43] \"GET /metrics HTTP/1.1\" 200 -\n",
      "127.0.0.1 - - [14/Oct/2024 16:54:45] \"GET /update_data/BTCUSDT_2024-10-14_16-51-06.pkl HTTP/1.1\" 200 -\n",
      "127.0.0.1 - - [14/Oct/2024 16:54:45] \"GET /metrics HTTP/1.1\" 200 -\n",
      "127.0.0.1 - - [14/Oct/2024 16:54:48] \"GET /update_data/ETHUSDT_2024-10-14_16-52-05.pkl HTTP/1.1\" 200 -\n",
      "127.0.0.1 - - [14/Oct/2024 16:54:48] \"GET /metrics HTTP/1.1\" 200 -\n"
     ]
    }
   ],
   "source": [
    "import pandas as pd\n",
    "from gym_trading_env.renderer import Renderer\n",
    "\n",
    "\n",
    "renderer = Renderer(render_logs_dir=\"render_logs\")\n",
    "\n",
    "# Add Custom Lines (Simple Moving Average)\n",
    "renderer.add_line( name= \"sma10\", function= lambda df : df[\"close\"].rolling(10).mean(), line_options ={\"width\" : 1, \"color\": \"purple\"})\n",
    "renderer.add_line( name= \"sma20\", function= lambda df : df[\"close\"].rolling(20).mean(), line_options ={\"width\" : 1, \"color\": \"blue\"})\n",
    "\n",
    "renderer.run()"
   ]
  }
 ],
 "metadata": {
  "kernelspec": {
   "display_name": "rl",
   "language": "python",
   "name": "python3"
  },
  "language_info": {
   "codemirror_mode": {
    "name": "ipython",
    "version": 3
   },
   "file_extension": ".py",
   "mimetype": "text/x-python",
   "name": "python",
   "nbconvert_exporter": "python",
   "pygments_lexer": "ipython3",
   "version": "3.12.4"
  }
 },
 "nbformat": 4,
 "nbformat_minor": 2
}
