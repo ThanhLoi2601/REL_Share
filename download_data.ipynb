{
 "cells": [
  {
   "cell_type": "markdown",
   "metadata": {},
   "source": [
    "### Import thư viện"
   ]
  },
  {
   "cell_type": "code",
   "execution_count": 1,
   "metadata": {},
   "outputs": [],
   "source": [
    "from gym_trading_env.downloader import download, EXCHANGE_LIMIT_RATES\n",
    "import datetime"
   ]
  },
  {
   "cell_type": "markdown",
   "metadata": {},
   "source": [
    "### Download data with symbols"
   ]
  },
  {
   "cell_type": "code",
   "execution_count": 2,
   "metadata": {},
   "outputs": [
    {
     "name": "stdout",
     "output_type": "stream",
     "text": [
      "ETH/USDT downloaded from bybit and stored at data/bybit-ETHUSDT-1h.pkl\n",
      "BTC/USDT downloaded from bybit and stored at data/bybit-BTCUSDT-1h.pkl\n"
     ]
    }
   ],
   "source": [
    "EXCHANGE_LIMIT_RATES[\"bybit\"] = {\n",
    "    \"limit\":200, # One request will query 1000 data points (aka candlesticks)\n",
    "    \"pause_every\": 120, # it will pause every 10 request\n",
    "    \"pause\" : 2, # the pause will last 1 second\n",
    "}\n",
    "download(\n",
    "    exchange_names = [\"bybit\"],\n",
    "    symbols= [\"ETH/USDT\", \"BTC/USDT\"],\n",
    "    timeframe= \"1h\",\n",
    "    dir = \"data\",\n",
    "    since= datetime.datetime(year= 2023, month= 1, day=1),\n",
    ")"
   ]
  }
 ],
 "metadata": {
  "kernelspec": {
   "display_name": "rl",
   "language": "python",
   "name": "python3"
  },
  "language_info": {
   "codemirror_mode": {
    "name": "ipython",
    "version": 3
   },
   "file_extension": ".py",
   "mimetype": "text/x-python",
   "name": "python",
   "nbconvert_exporter": "python",
   "pygments_lexer": "ipython3",
   "version": "3.12.4"
  }
 },
 "nbformat": 4,
 "nbformat_minor": 2
}
